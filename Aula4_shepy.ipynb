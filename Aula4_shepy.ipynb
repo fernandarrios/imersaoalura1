{
  "nbformat": 4,
  "nbformat_minor": 0,
  "metadata": {
    "colab": {
      "name": "Aula4.shepy",
      "provenance": [],
      "authorship_tag": "ABX9TyOnHW78/xDz5/bPb2u4SMhX",
      "include_colab_link": true
    },
    "kernelspec": {
      "name": "python3",
      "display_name": "Python 3"
    },
    "language_info": {
      "name": "python"
    }
  },
  "cells": [
    {
      "cell_type": "markdown",
      "metadata": {
        "id": "view-in-github",
        "colab_type": "text"
      },
      "source": [
        "<a href=\"https://colab.research.google.com/github/fernandarrios/imersaoalura1/blob/main/Aula4_shepy.ipynb\" target=\"_parent\"><img src=\"https://colab.research.google.com/assets/colab-badge.svg\" alt=\"Open In Colab\"/></a>"
      ]
    },
    {
      "cell_type": "markdown",
      "metadata": {
        "id": "gFCHY0gTRhmB"
      },
      "source": [
        "##NumPY - Numerical Python\n",
        "\n",
        "NumPY é uma poderosa biblioteca que suporta **arrays** e **matrizes** e é muito importante para processamento numérico em Python. Esses tipos de cálculos numéricos são amplamente utilizados em tarefas como: Modelos de Machine Learning, Visão Computacional e tarefas matemáticas.\n",
        "\n",
        "Alguns recursos do Numpy:\n",
        "-ndarray: um array multidimensional eficaz que oferece operações rápidas.\n",
        "- funções matemáticas para operações rápidas em arrays de dados, sem que haja a necessidade de escrever laços.\n",
        "\n",
        "Em **Python**, arrays são estruturas de dados semelhantes às listas, mas não tão flexíveis, pois possuem um tamanho fixo informado no momento em que são inicializados. O array usa menos memória do que a lista, é mais rápido nas operações de leitura e possibilita executar operações matemáticas sobre todos os itens de uma só vez."
      ]
    },
    {
      "cell_type": "markdown",
      "metadata": {
        "id": "X1h-k9i-SYx-"
      },
      "source": [
        "#Criando arrays com Numpy:"
      ]
    },
    {
      "cell_type": "markdown",
      "metadata": {
        "id": "SXO4MMk-TCxp"
      },
      "source": [
        "Array com 1 dimensão"
      ]
    },
    {
      "cell_type": "code",
      "metadata": {
        "id": "Rx8KcTSbRiUN"
      },
      "source": [
        "import numpy as np"
      ],
      "execution_count": null,
      "outputs": []
    },
    {
      "cell_type": "code",
      "metadata": {
        "colab": {
          "base_uri": "https://localhost:8080/"
        },
        "id": "QKBr181cSdGr",
        "outputId": "5fb84f19-adc4-450e-dadc-83099ab9bf7f"
      },
      "source": [
        "# Criando um aray a partir de uma lista\n",
        "mylist = [1,2,3]\n",
        "myarray = np.array(mylist)\n",
        "myarray"
      ],
      "execution_count": null,
      "outputs": [
        {
          "output_type": "execute_result",
          "data": {
            "text/plain": [
              "array([1, 2, 3])"
            ]
          },
          "metadata": {
            "tags": []
          },
          "execution_count": 2
        }
      ]
    },
    {
      "cell_type": "code",
      "metadata": {
        "colab": {
          "base_uri": "https://localhost:8080/"
        },
        "id": "Gr7JuFWgSrYo",
        "outputId": "dfc05740-385c-4010-fd99-2aa7da5b7c32"
      },
      "source": [
        "type(myarray)"
      ],
      "execution_count": null,
      "outputs": [
        {
          "output_type": "execute_result",
          "data": {
            "text/plain": [
              "numpy.ndarray"
            ]
          },
          "metadata": {
            "tags": []
          },
          "execution_count": 3
        }
      ]
    },
    {
      "cell_type": "code",
      "metadata": {
        "colab": {
          "base_uri": "https://localhost:8080/"
        },
        "id": "F8aUL-PiSw1_",
        "outputId": "16c2b4db-2968-435c-90ba-37beb6091722"
      },
      "source": [
        "myarray = np.array([1,2,3])\n",
        "myarray"
      ],
      "execution_count": null,
      "outputs": [
        {
          "output_type": "execute_result",
          "data": {
            "text/plain": [
              "array([1, 2, 3])"
            ]
          },
          "metadata": {
            "tags": []
          },
          "execution_count": 5
        }
      ]
    },
    {
      "cell_type": "code",
      "metadata": {
        "colab": {
          "base_uri": "https://localhost:8080/"
        },
        "id": "cF-OrXo7S6Dn",
        "outputId": "9c488147-3778-4739-8195-2ed9fba6c901"
      },
      "source": [
        "#Criando um array com arange, sendo o intervalo de 0 a 10\n",
        "a1d = np.arange(0,10)\n",
        "a1d"
      ],
      "execution_count": null,
      "outputs": [
        {
          "output_type": "execute_result",
          "data": {
            "text/plain": [
              "array([0, 1, 2, 3, 4, 5, 6, 7, 8, 9])"
            ]
          },
          "metadata": {
            "tags": []
          },
          "execution_count": 6
        }
      ]
    },
    {
      "cell_type": "code",
      "metadata": {
        "colab": {
          "base_uri": "https://localhost:8080/"
        },
        "id": "C8_JeS2qTULq",
        "outputId": "415caf7f-e9d5-4de1-bc4e-15c98144c0b7"
      },
      "source": [
        "#Criando um array de zeros\n",
        "zeros = np.zeros(5)\n",
        "zeros"
      ],
      "execution_count": null,
      "outputs": [
        {
          "output_type": "execute_result",
          "data": {
            "text/plain": [
              "array([0., 0., 0., 0., 0.])"
            ]
          },
          "metadata": {
            "tags": []
          },
          "execution_count": 10
        }
      ]
    },
    {
      "cell_type": "code",
      "metadata": {
        "colab": {
          "base_uri": "https://localhost:8080/"
        },
        "id": "LFORO7NFUy6R",
        "outputId": "1403fa92-87a5-4df2-f4b6-567cc1149a28"
      },
      "source": [
        "array = np.array(['Python', 'Java'])\n",
        "array"
      ],
      "execution_count": null,
      "outputs": [
        {
          "output_type": "execute_result",
          "data": {
            "text/plain": [
              "array(['Python', 'Java'], dtype='<U6')"
            ]
          },
          "metadata": {
            "tags": []
          },
          "execution_count": 15
        }
      ]
    },
    {
      "cell_type": "markdown",
      "metadata": {
        "id": "qdX7nDW0UG-J"
      },
      "source": [
        "Array de 2 dimensões"
      ]
    },
    {
      "cell_type": "code",
      "metadata": {
        "colab": {
          "base_uri": "https://localhost:8080/"
        },
        "id": "4b5WHdeQUKhR",
        "outputId": "05ccf9c1-9da6-4993-c0c8-89536403aa83"
      },
      "source": [
        "a2d = np.array([[1,2,3], [4,5,6], [7,8,9]])\n",
        "a2d"
      ],
      "execution_count": null,
      "outputs": [
        {
          "output_type": "execute_result",
          "data": {
            "text/plain": [
              "array([[1, 2, 3],\n",
              "       [4, 5, 6],\n",
              "       [7, 8, 9]])"
            ]
          },
          "metadata": {
            "tags": []
          },
          "execution_count": 13
        }
      ]
    },
    {
      "cell_type": "code",
      "metadata": {
        "colab": {
          "base_uri": "https://localhost:8080/"
        },
        "id": "99_XhN-6U7VI",
        "outputId": "cfdb6f50-ef52-4309-a227-5e3003c6f533"
      },
      "source": [
        "array2d = np.array([['Python', 'R', 'Java'], ['JavaScript', 'C','React']])\n",
        "array2d"
      ],
      "execution_count": null,
      "outputs": [
        {
          "output_type": "execute_result",
          "data": {
            "text/plain": [
              "array([['Python', 'R', 'Java'],\n",
              "       ['JavaScript', 'C', 'React']], dtype='<U10')"
            ]
          },
          "metadata": {
            "tags": []
          },
          "execution_count": 16
        }
      ]
    },
    {
      "cell_type": "code",
      "metadata": {
        "colab": {
          "base_uri": "https://localhost:8080/"
        },
        "id": "_86vSOpNVOSX",
        "outputId": "1b231280-cd56-4566-f2c4-21c2a8815e14"
      },
      "source": [
        "zeros2d = np.zeros(shape=(3,4))  #3 linhas e 4 colunas\n",
        "zeros2d"
      ],
      "execution_count": null,
      "outputs": [
        {
          "output_type": "execute_result",
          "data": {
            "text/plain": [
              "array([[0., 0., 0., 0.],\n",
              "       [0., 0., 0., 0.],\n",
              "       [0., 0., 0., 0.]])"
            ]
          },
          "metadata": {
            "tags": []
          },
          "execution_count": 20
        }
      ]
    },
    {
      "cell_type": "markdown",
      "metadata": {
        "id": "KybGnCREWaSS"
      },
      "source": [
        "Array de 3 dimensões"
      ]
    },
    {
      "cell_type": "code",
      "metadata": {
        "colab": {
          "base_uri": "https://localhost:8080/"
        },
        "id": "BXIyig04WcpB",
        "outputId": "5628f704-96dc-4c2a-8b11-bbafc68018e4"
      },
      "source": [
        "a3D = np.array( [ [ [1,2,3], [4,5,6], [7,8,9] ], [ [11,12,13], [14,15,16], [17,18,19] ], [ [21,22,23], [24,25,26], [27,28,29] ]])\n",
        "a3D"
      ],
      "execution_count": null,
      "outputs": [
        {
          "output_type": "execute_result",
          "data": {
            "text/plain": [
              "array([[[ 1,  2,  3],\n",
              "        [ 4,  5,  6],\n",
              "        [ 7,  8,  9]],\n",
              "\n",
              "       [[11, 12, 13],\n",
              "        [14, 15, 16],\n",
              "        [17, 18, 19]],\n",
              "\n",
              "       [[21, 22, 23],\n",
              "        [24, 25, 26],\n",
              "        [27, 28, 29]]])"
            ]
          },
          "metadata": {
            "tags": []
          },
          "execution_count": 3
        }
      ]
    },
    {
      "cell_type": "code",
      "metadata": {
        "id": "7dqXY0c9W-yH",
        "colab": {
          "base_uri": "https://localhost:8080/"
        },
        "outputId": "26b9aaf9-4648-4fcc-f2f8-a649b397894b"
      },
      "source": [
        "zeros3d = np.zeros(shape=(3, 4, 2)) # 3 páginas, 4 linhas e 2 colunas\n",
        "zeros3d"
      ],
      "execution_count": null,
      "outputs": [
        {
          "output_type": "execute_result",
          "data": {
            "text/plain": [
              "array([[[0., 0.],\n",
              "        [0., 0.],\n",
              "        [0., 0.],\n",
              "        [0., 0.]],\n",
              "\n",
              "       [[0., 0.],\n",
              "        [0., 0.],\n",
              "        [0., 0.],\n",
              "        [0., 0.]],\n",
              "\n",
              "       [[0., 0.],\n",
              "        [0., 0.],\n",
              "        [0., 0.],\n",
              "        [0., 0.]]])"
            ]
          },
          "metadata": {
            "tags": []
          },
          "execution_count": 4
        }
      ]
    },
    {
      "cell_type": "markdown",
      "metadata": {
        "id": "CJGsaeb7XB5C"
      },
      "source": [
        "##Comparação de performace do Numpy"
      ]
    },
    {
      "cell_type": "code",
      "metadata": {
        "colab": {
          "base_uri": "https://localhost:8080/"
        },
        "id": "YCDKkpYFXHsc",
        "outputId": "7056e129-f12f-4b29-de18-832ad2530156"
      },
      "source": [
        "idade = np.random.randint(50, size=1000)\n",
        "len(idade)"
      ],
      "execution_count": null,
      "outputs": [
        {
          "output_type": "execute_result",
          "data": {
            "text/plain": [
              "1000"
            ]
          },
          "metadata": {
            "tags": []
          },
          "execution_count": 5
        }
      ]
    },
    {
      "cell_type": "code",
      "metadata": {
        "colab": {
          "base_uri": "https://localhost:8080/"
        },
        "id": "0zhojQF8XcrJ",
        "outputId": "f56dc466-d2d8-451b-8110-03c498bd66f7"
      },
      "source": [
        "%timeit sum(idade) # Somar as idades usando a função sum() do Python"
      ],
      "execution_count": null,
      "outputs": [
        {
          "output_type": "stream",
          "text": [
            "10000 loops, best of 5: 160 µs per loop\n"
          ],
          "name": "stdout"
        }
      ]
    },
    {
      "cell_type": "code",
      "metadata": {
        "colab": {
          "base_uri": "https://localhost:8080/"
        },
        "id": "GUg1whjQXuAc",
        "outputId": "79370ee9-7850-4a4a-a363-56b14e93813e"
      },
      "source": [
        "%timeit np.sum(idade) # Somar as idades usando a função np.sum() do Numpy"
      ],
      "execution_count": null,
      "outputs": [
        {
          "output_type": "stream",
          "text": [
            "The slowest run took 12.35 times longer than the fastest. This could mean that an intermediate result is being cached.\n",
            "100000 loops, best of 5: 5.16 µs per loop\n"
          ],
          "name": "stdout"
        }
      ]
    },
    {
      "cell_type": "markdown",
      "metadata": {
        "id": "ma-n7hRpWCom"
      },
      "source": [
        "## Introdução à Estatística básica"
      ]
    },
    {
      "cell_type": "markdown",
      "metadata": {
        "id": "WsjB7NuxWDNR"
      },
      "source": [
        "## População e amostra\n",
        "Uma população é um conjunto de pessoas, itens ou eventos sobre os quais você quer fazer inferências. Uma amostra é um subconjunto de uma população que se analisa para fazer inferências. \n",
        "\n",
        "## Tipos de Dados\n",
        "- Qualitativos: Consistem em atributos, qualidades, características.\n",
        "  - Nominais: Esses dados representam nomes, rótulos ou categorias que\n",
        "não têm ordem ou hierarquia.\n",
        "  - Ordinais: Esses dados mantêm uma relação de ordem.\n",
        "\n",
        "- Quantitativos: Consistem em medidas ou contagens numéricas.\n",
        "  - Discretos: Resultam de um conjunto finito ou enumerável de valores possíveis\n",
        "(Contagens)\n",
        "  - Contínuos: Resultam em um número infinito de valores possíveis (Mensurações)\n",
        "\n",
        "## Medidas de tendência central\n",
        "As medidas de **tendência central** mostram o valor representativo em torno do qual os dados tendem a agrupar-se, dão o ponto central em torno do qual os dados se distribuem.\n",
        "​\n",
        "- **Média**: A média de uma amostra é denotada por x barra e a média de uma população é denotada por µ. Para calcular a média de um conjunto de valores é necessário somar todos os valores obtidos e dividir por n (que representa o tamanho da amostra).\n",
        "​\n",
        "- **Mediana**: É o valor que divide o conjunto de dados ao meio, deixando os 50% menores valores de um lado e os 50% maiores valores do outro lado. Para calcular a mediana é necessário que o conjunto de dados esteja organizado em ordem crescente. Se n é ímpar, a mediana é dada pelo valor que ocupa a posição central. Se n é par, a mediana será a média dos valores que ocupam as posições centrais.\n",
        "​\n",
        "- **Moda**: Dado um conjunto de valores, a Moda desses valores será aquele que se repetir o maior número de vezes."
      ]
    },
    {
      "cell_type": "markdown",
      "metadata": {
        "id": "QTZm8z56WGZM"
      },
      "source": [
        "## Medidas de dispersão/variabilidade\n",
        "As medidas de **dispersão** mostram o grau de afastamento dos valores observados em relação ao ponto central da distribuição dos dados.\n",
        "\n",
        "- **Amplitude:** É definida como sendo a diferença entre o maior e o menor valor do conjunto de dados.\n",
        "\n",
        "- **Variância e desvio padrão:** A variância e o desvio padrão medem a variação do conjunto de dados em torno da média. \n",
        "É possível perceber que a unidade de medida da variância equivale à unidade de medida dos dados ao quadrado. Dessa\n",
        "maneira, é mais comum trabalharmos com a raiz quadrada da variância, ou seja, com o desvio padrão.\n",
        "\n",
        "![](https://calculareconverter.com.br/wp-content/uploads/2018/08/formula-variancia.jpg)"
      ]
    },
    {
      "cell_type": "markdown",
      "metadata": {
        "id": "Xif2_nioWKpm"
      },
      "source": [
        "## Medidas de posição relativa\n",
        "As medidas de **posição** relativa mostram pontos de corte na distribuição relativa dos dados da amostra.\n",
        "\n",
        "- **Quartis:** Assim como a mediana divide os dados em duas partes iguais, os três quartis, denotados por Q1, Q2 e Q3, dividem as observações ordenadas (dispostas em ordem crescente) em quatro partes aproximadamente iguais, ou seja, há cerca de 25% dos dados em cada grupo. \n",
        "\n",
        "- **Decis:** Analogamente, há nove decis, denotados por D1, D2, D3, ..., D9, que dividem os dados em 10 grupos com cerca de 10% dos dados em cada grupo.\n",
        "\n",
        "- **Percentis:** Há, finalmente, 99 percentis, que dividem os dados em 100 grupos com cerca de 1% dos dados em cada grupo.\n",
        "\n",
        "![](https://sondagenseestudosdeopiniao.files.wordpress.com/2011/10/est-descr-_quadro41.jpg?w=863)"
      ]
    },
    {
      "cell_type": "markdown",
      "metadata": {
        "id": "bZrK90odWNMC"
      },
      "source": [
        "## EXERCÍCIOS:\n",
        "\n",
        "### Desafio 1: \n",
        "Uma professora está interessada em avaliar o tempo (em minutos) que os alunos demoram entre o início e a finalização de uma prova. Para isso, observou 12 alunos escolhidos aleatoriamente no sistema. Os dados encontram-se abaixo:\n",
        "\n",
        "- Tempo em minutos: 71, 73, 73, 74, 74, 75, 76, 77, 77, 79, 81, 83\n",
        "\n",
        "**Calcule a média, a mediana e a moda**"
      ]
    },
    {
      "cell_type": "code",
      "metadata": {
        "id": "YzsVhiHM2O02"
      },
      "source": [
        "import numpy as np\n",
        "from scipy import stats"
      ],
      "execution_count": 1,
      "outputs": []
    },
    {
      "cell_type": "code",
      "metadata": {
        "id": "6EsL2Pq22Vfx"
      },
      "source": [
        "time = np.array([71,73,73,74,74,75,76,77,77,79,81,83])"
      ],
      "execution_count": 3,
      "outputs": []
    },
    {
      "cell_type": "code",
      "metadata": {
        "colab": {
          "base_uri": "https://localhost:8080/"
        },
        "id": "qUDm7VCE2gI_",
        "outputId": "5b0b3838-2f61-444c-a5ea-2585a1c43b39"
      },
      "source": [
        "np.mean(time)"
      ],
      "execution_count": 5,
      "outputs": [
        {
          "output_type": "execute_result",
          "data": {
            "text/plain": [
              "76.08333333333333"
            ]
          },
          "metadata": {
            "tags": []
          },
          "execution_count": 5
        }
      ]
    },
    {
      "cell_type": "code",
      "metadata": {
        "colab": {
          "base_uri": "https://localhost:8080/"
        },
        "id": "8BHaf3132xHR",
        "outputId": "4a2b7b01-2c19-4948-a534-2fd328d5a489"
      },
      "source": [
        "np.median(time)"
      ],
      "execution_count": 6,
      "outputs": [
        {
          "output_type": "execute_result",
          "data": {
            "text/plain": [
              "75.5"
            ]
          },
          "metadata": {
            "tags": []
          },
          "execution_count": 6
        }
      ]
    },
    {
      "cell_type": "code",
      "metadata": {
        "colab": {
          "base_uri": "https://localhost:8080/"
        },
        "id": "i2clxfoG20Qv",
        "outputId": "7b1b8ce2-ad19-47af-ce6a-e802ff3d4d0d"
      },
      "source": [
        "stats.mode(time)"
      ],
      "execution_count": 7,
      "outputs": [
        {
          "output_type": "execute_result",
          "data": {
            "text/plain": [
              "ModeResult(mode=array([73]), count=array([2]))"
            ]
          },
          "metadata": {
            "tags": []
          },
          "execution_count": 7
        }
      ]
    },
    {
      "cell_type": "markdown",
      "metadata": {
        "id": "aUsrfTpxWT8y"
      },
      "source": [
        "### Desafio 2:\n",
        "Considere uma amostra de tempo em minutos que alunos gastam para chegar à uma escola:\n",
        "\n",
        "Amostra: 5, 12, 25, 43, 67\n",
        "\n",
        "Calcule:\n",
        "- A média\n",
        "- A variância\n",
        "- O desvio padrão"
      ]
    },
    {
      "cell_type": "code",
      "metadata": {
        "id": "NPS1QLD13INI"
      },
      "source": [
        "tempo = np.array([5, 12, 25, 43, 67])"
      ],
      "execution_count": 8,
      "outputs": []
    },
    {
      "cell_type": "code",
      "metadata": {
        "colab": {
          "base_uri": "https://localhost:8080/"
        },
        "id": "b1BtuFe63KpT",
        "outputId": "793bb557-3a3b-4943-a03a-4cfe214422df"
      },
      "source": [
        "#Média (sem ajuda do Numpy)\n",
        "(5 + 12 + 25 + 43 + 67)/ len(tempo)"
      ],
      "execution_count": 9,
      "outputs": [
        {
          "output_type": "execute_result",
          "data": {
            "text/plain": [
              "30.4"
            ]
          },
          "metadata": {
            "tags": []
          },
          "execution_count": 9
        }
      ]
    },
    {
      "cell_type": "code",
      "metadata": {
        "colab": {
          "base_uri": "https://localhost:8080/"
        },
        "id": "q8S6wrKZ3Mz6",
        "outputId": "e114cbe1-e6ac-4d25-ff89-262be7d76540"
      },
      "source": [
        "#Variância (sem ajuda do Numpy)\n",
        "media = np.mean(tempo)\n",
        "soma = (5 - media) ** 2 + (12 - media) ** 2 + (25 - media) ** 2 + (43 - media) ** 2 + (67 - media) ** 2\n",
        "var = soma / (len(tempo) - 1)\n",
        "var"
      ],
      "execution_count": 10,
      "outputs": [
        {
          "output_type": "execute_result",
          "data": {
            "text/plain": [
              "627.8"
            ]
          },
          "metadata": {
            "tags": []
          },
          "execution_count": 10
        }
      ]
    },
    {
      "cell_type": "code",
      "metadata": {
        "colab": {
          "base_uri": "https://localhost:8080/"
        },
        "id": "HYUp0IOu3Ozb",
        "outputId": "f1a526b7-59ea-46f9-e660-1db8a6d27efc"
      },
      "source": [
        "#Desvio padrão (sem ajuda do Numpy)\n",
        "var ** (1/2)"
      ],
      "execution_count": 11,
      "outputs": [
        {
          "output_type": "execute_result",
          "data": {
            "text/plain": [
              "25.055937420100648"
            ]
          },
          "metadata": {
            "tags": []
          },
          "execution_count": 11
        }
      ]
    },
    {
      "cell_type": "code",
      "metadata": {
        "colab": {
          "base_uri": "https://localhost:8080/"
        },
        "id": "7s0KPyPx3Q0u",
        "outputId": "b00178ae-9ea3-4d66-a974-5b94bf0a71e6"
      },
      "source": [
        "#Média com Numpy\n",
        "np.mean(tempo)"
      ],
      "execution_count": 12,
      "outputs": [
        {
          "output_type": "execute_result",
          "data": {
            "text/plain": [
              "30.4"
            ]
          },
          "metadata": {
            "tags": []
          },
          "execution_count": 12
        }
      ]
    },
    {
      "cell_type": "code",
      "metadata": {
        "colab": {
          "base_uri": "https://localhost:8080/"
        },
        "id": "mdt--9Ak3Sj-",
        "outputId": "b6cab076-c16e-40de-b08a-2e94c74b6dea"
      },
      "source": [
        "#Variância com Numpy\n",
        "np.var(tempo, ddof=1)"
      ],
      "execution_count": 13,
      "outputs": [
        {
          "output_type": "execute_result",
          "data": {
            "text/plain": [
              "627.8"
            ]
          },
          "metadata": {
            "tags": []
          },
          "execution_count": 13
        }
      ]
    },
    {
      "cell_type": "code",
      "metadata": {
        "colab": {
          "base_uri": "https://localhost:8080/"
        },
        "id": "9I9LNwqz3T-W",
        "outputId": "7fa7df33-15e7-4477-cab8-a3d5b6fd8382"
      },
      "source": [
        "#Desvio padrão com Numpy\n",
        "np.std(tempo, ddof=1)"
      ],
      "execution_count": 14,
      "outputs": [
        {
          "output_type": "execute_result",
          "data": {
            "text/plain": [
              "25.055937420100648"
            ]
          },
          "metadata": {
            "tags": []
          },
          "execution_count": 14
        }
      ]
    },
    {
      "cell_type": "markdown",
      "metadata": {
        "id": "4i3nSCsqWYeZ"
      },
      "source": [
        "## Box plot\n",
        "O Boxplot é um gráfico para representar dados quantitativos sendo conveniente\n",
        "para revelar medidas de tendência central, dispersão, distribuição dos dados e a\n",
        "presença de outliers (valores discrepantes). A construção de um diagrama em caixa\n",
        "exige que tenhamos o valor mínimo, o primeiro quartil (Q1), a mediana (ou segundo\n",
        "quartil Q2), o terceiro quartil (Q3), o valor máximo e a distância interquartílica (DIQ).\n",
        "\n",
        "- A distância interquartílica (DIQ) é obtida pela distância entre o terceiro e o primeiro quartil: **DIQ = Q3 - Q1.**\n",
        "\n",
        "Para identificar a presença de valores discrepantes na amostra deve-se, primeiramente, calcular as seguintes medidas: \n",
        "- **Q1 – 1,5xDIQ e Q3 + 1,5xDIQ.** Elas representam os limites para detecção de outliers."
      ]
    },
    {
      "cell_type": "code",
      "metadata": {
        "id": "xmJhexb13dEX"
      },
      "source": [
        "data = np.array([18, 19, 21, 21, 21, 22, 22, 22, 23, 23, 24, 32])"
      ],
      "execution_count": 15,
      "outputs": []
    },
    {
      "cell_type": "code",
      "metadata": {
        "id": "hdrCPWk33dhV"
      },
      "source": [
        "import matplotlib.pyplot as plt"
      ],
      "execution_count": 16,
      "outputs": []
    },
    {
      "cell_type": "code",
      "metadata": {
        "colab": {
          "base_uri": "https://localhost:8080/",
          "height": 410
        },
        "id": "mT8qQDfK3fxG",
        "outputId": "aeed2b14-d093-41fa-bdc9-75c5c5c23533"
      },
      "source": [
        "plt.boxplot(data)"
      ],
      "execution_count": 17,
      "outputs": [
        {
          "output_type": "execute_result",
          "data": {
            "text/plain": [
              "{'boxes': [<matplotlib.lines.Line2D at 0x7fcd99b8d350>],\n",
              " 'caps': [<matplotlib.lines.Line2D at 0x7fcd99e379d0>,\n",
              "  <matplotlib.lines.Line2D at 0x7fcd99e6d610>],\n",
              " 'fliers': [<matplotlib.lines.Line2D at 0x7fcd99c2d650>],\n",
              " 'means': [],\n",
              " 'medians': [<matplotlib.lines.Line2D at 0x7fcd99b654d0>],\n",
              " 'whiskers': [<matplotlib.lines.Line2D at 0x7fcd99dff290>,\n",
              "  <matplotlib.lines.Line2D at 0x7fcd99b8dbd0>]}"
            ]
          },
          "metadata": {
            "tags": []
          },
          "execution_count": 17
        },
        {
          "output_type": "display_data",
          "data": {
            "image/png": "[encoded data removed]",
            "text/plain": [
              "<Figure size 432x288 with 1 Axes>"
            ]
          },
          "metadata": {
            "tags": [],
            "needs_background": "light"
          }
        }
      ]
    }
  ]
}